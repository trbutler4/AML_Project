{
 "cells": [
  {
   "cell_type": "code",
   "execution_count": 1,
   "metadata": {},
   "outputs": [
    {
     "name": "stderr",
     "output_type": "stream",
     "text": [
      "/home/trbiv/OneDrive/School/Spring 2023/5995_applied_ml/project/.venv/lib/python3.10/site-packages/tqdm/auto.py:21: TqdmWarning: IProgress not found. Please update jupyter and ipywidgets. See https://ipywidgets.readthedocs.io/en/stable/user_install.html\n",
      "  from .autonotebook import tqdm as notebook_tqdm\n"
     ]
    }
   ],
   "source": [
    "#!pip install datasets\n",
    "import os\n",
    "import torch\n",
    "import torch.nn as nn\n",
    "import torch.nn.functional as F\n",
    "import numpy as np\n",
    "from datasets import load_dataset, load_from_disk\n",
    "from PIL import Image\n",
    "import torchvision.transforms as transforms\n",
    "from torch.utils.data import DataLoader"
   ]
  },
  {
   "attachments": {},
   "cell_type": "markdown",
   "metadata": {},
   "source": [
    "Process Data"
   ]
  },
  {
   "cell_type": "code",
   "execution_count": 2,
   "metadata": {},
   "outputs": [
    {
     "name": "stderr",
     "output_type": "stream",
     "text": [
      "/home/trbiv/OneDrive/School/Spring 2023/5995_applied_ml/project/.venv/lib/python3.10/site-packages/datasets/load.py:1744: FutureWarning: 'ignore_verifications' was deprecated in favor of 'verification_mode' in version 2.9.1 and will be removed in 3.0.0.\n",
      "You can remove this warning by passing 'verification_mode=no_checks' instead.\n",
      "  warnings.warn(\n",
      "Found cached dataset slither-audited-smart-contracts (/home/trbiv/.cache/huggingface/datasets/mwritescode___slither-audited-smart-contracts/small-multilabel/1.1.0/4cf503b59ce9d3157914e47f6253de773b7ab828f46642685d4b470b88ca1f13)\n",
      "Found cached dataset slither-audited-smart-contracts (/home/trbiv/.cache/huggingface/datasets/mwritescode___slither-audited-smart-contracts/small-multilabel/1.1.0/4cf503b59ce9d3157914e47f6253de773b7ab828f46642685d4b470b88ca1f13)\n",
      "Loading cached processed dataset at /home/trbiv/.cache/huggingface/datasets/mwritescode___slither-audited-smart-contracts/small-multilabel/1.1.0/4cf503b59ce9d3157914e47f6253de773b7ab828f46642685d4b470b88ca1f13/cache-f761296fcbda6e7a.arrow\n",
      "Loading cached processed dataset at /home/trbiv/.cache/huggingface/datasets/mwritescode___slither-audited-smart-contracts/small-multilabel/1.1.0/4cf503b59ce9d3157914e47f6253de773b7ab828f46642685d4b470b88ca1f13/cache-0b09595cbf775804.arrow\n",
      "Loading cached processed dataset at /home/trbiv/.cache/huggingface/datasets/mwritescode___slither-audited-smart-contracts/small-multilabel/1.1.0/4cf503b59ce9d3157914e47f6253de773b7ab828f46642685d4b470b88ca1f13/cache-cf357b9c086a0487.arrow\n",
      "Loading cached processed dataset at /home/trbiv/.cache/huggingface/datasets/mwritescode___slither-audited-smart-contracts/small-multilabel/1.1.0/4cf503b59ce9d3157914e47f6253de773b7ab828f46642685d4b470b88ca1f13/cache-898fae78f5193b28.arrow\n"
     ]
    },
    {
     "data": {
      "text/plain": [
       "{'image': <PIL.PngImagePlugin.PngImageFile image mode=RGB size=50x50>}"
      ]
     },
     "execution_count": 2,
     "metadata": {},
     "output_type": "execute_result"
    }
   ],
   "source": [
    "# dataset will be cached after loading the first time \n",
    "\n",
    "train_ds = load_dataset(\"mwritescode/slither-audited-smart-contracts\", 'small-multilabel', split='train', ignore_verifications=True)\n",
    "test_ds = load_dataset(\"mwritescode/slither-audited-smart-contracts\", 'small-multilabel', split='test', ignore_verifications=True)\n",
    "\n",
    "\n",
    "# filter out empty bytecode \n",
    "train_ds = train_ds.filter(lambda elem: elem['bytecode'] != '0x')\n",
    "test_ds = test_ds.filter(lambda elem: elem['bytecode'] != '0x')\n",
    "\n",
    "# extract number of unique classes \n",
    "\n",
    "\n",
    "# generate RGB image \n",
    "def generate_RGB_image(example):\n",
    "    # generate RGB image\n",
    "    bytecode_string = example['bytecode']\n",
    "    bytecode_hex = bytes.fromhex(bytecode_string[2:])\n",
    "    image = np.frombuffer(bytecode_hex, dtype=np.uint8)\n",
    "    length = int(np.ceil(len(image)/3))\n",
    "    image = np.pad(image, pad_width=(0, length*3 - len(image)))\n",
    "    image = image.reshape((-1, 3))\n",
    "    sqrt_len = int(np.ceil(np.sqrt(image.shape[0])))\n",
    "    image = np.pad(image,  pad_width=((0, sqrt_len**2 - image.shape[0]),(0,0)))\n",
    "    image = image.reshape((sqrt_len, sqrt_len, 3))\n",
    "    image = Image.fromarray(image)\n",
    "    example['image'] = image\n",
    "\n",
    "    return example\n",
    "\n",
    "# generate images, remove unneccessary columns \n",
    "train_ds = train_ds.map(generate_RGB_image, remove_columns=['address', 'source_code', 'bytecode', 'slither'])\n",
    "test_ds = test_ds.map(generate_RGB_image, remove_columns=['address', 'source_code', 'bytecode', 'slither'])\n",
    "\n",
    "# image after generating\n",
    "train_ds[0]\n",
    "\n",
    "\n"
   ]
  },
  {
   "attachments": {},
   "cell_type": "markdown",
   "metadata": {},
   "source": [
    "Apply augmentations"
   ]
  },
  {
   "cell_type": "code",
   "execution_count": 3,
   "metadata": {},
   "outputs": [
    {
     "name": "stderr",
     "output_type": "stream",
     "text": [
      "Loading cached processed dataset at /home/trbiv/.cache/huggingface/datasets/mwritescode___slither-audited-smart-contracts/small-multilabel/1.1.0/4cf503b59ce9d3157914e47f6253de773b7ab828f46642685d4b470b88ca1f13/cache-11f62f3998af50ea.arrow\n",
      "Loading cached processed dataset at /home/trbiv/.cache/huggingface/datasets/mwritescode___slither-audited-smart-contracts/small-multilabel/1.1.0/4cf503b59ce9d3157914e47f6253de773b7ab828f46642685d4b470b88ca1f13/cache-4fd0e150a5ab9c83.arrow\n"
     ]
    },
    {
     "name": "stdout",
     "output_type": "stream",
     "text": [
      "torch.Size([3, 128, 128])\n"
     ]
    }
   ],
   "source": [
    "\n",
    "# pytorch expect RGB inputs in range [0, 1], normalize:\n",
    "mean_rgb = [0.485, 0.456, 0.406]\n",
    "std_rgb = [0.229, 0.224, 0.225]\n",
    "\n",
    "# transform images\n",
    "transform = transforms.Compose([\n",
    "    transforms.Resize(128),\n",
    "    transforms.RandomHorizontalFlip(),\n",
    "    transforms.ToTensor(),\n",
    "    transforms.Normalize(mean=mean_rgb, std=std_rgb)\n",
    "])\n",
    "\n",
    "# apply transformations\n",
    "transformed_train_ds = train_ds.map(lambda elem: {'image': transform(elem['image'])})\n",
    "transformed_test_ds = test_ds.map(lambda elem: {'image': transform(elem['image'])})\n",
    "\n",
    "batch_size =  8\n",
    "\n",
    "# convert to pytorch format \n",
    "transformed_train_ds = transformed_train_ds.with_format(\"torch\")\n",
    "transformed_test_ds = transformed_test_ds.with_format(\"torch\")\n",
    "\n",
    "# initialize dataloaders\n",
    "train_dataloader = DataLoader(transformed_train_ds, batch_size=batch_size, shuffle=True)\n",
    "test_dataloader = DataLoader(transformed_test_ds, batch_size=batch_size, shuffle=False)\n",
    "\n",
    "print(transformed_train_ds[2]['image'].shape)"
   ]
  },
  {
   "cell_type": "code",
   "execution_count": 4,
   "metadata": {},
   "outputs": [
    {
     "name": "stdout",
     "output_type": "stream",
     "text": [
      "Output shape:  torch.Size([8, 3, 128, 128])\n"
     ]
    }
   ],
   "source": [
    "class Unsupervised(nn.Module): \n",
    "    def __init__(self):\n",
    "        super(Unsupervised, self).__init__()\n",
    "\n",
    "        self.conv1 = nn.Conv2d(3, 64, kernel_size=3, padding=1)\n",
    "        self.bn1 = nn.BatchNorm2d(64)\n",
    "        self.conv2 = nn.Conv2d(64, 128, kernel_size=3, padding=1)\n",
    "        self.bn2 = nn.BatchNorm2d(128)\n",
    "        self.conv3 = nn.Conv2d(128, 128, kernel_size=3, padding=1)\n",
    "        self.bn3 = nn.BatchNorm2d(128)\n",
    "        self.conv4 = nn.Conv2d(128, 128, kernel_size=3, padding=1)\n",
    "        self.bn4 = nn.BatchNorm2d(128)\n",
    "        self.conv5 = nn.Conv2d(128, 3, kernel_size=3, padding=1)\n",
    "        self.bn5 = nn.BatchNorm2d(3)\n",
    "\n",
    "\n",
    "    def forward(self, x):\n",
    "\n",
    "        x = F.relu(self.bn1(self.conv1(x)))\n",
    "        x = F.relu(self.bn2(self.conv2(x)))\n",
    "        x = F.relu(self.bn3(self.conv3(x)))\n",
    "        x = F.relu(self.bn4(self.conv4(x)))\n",
    "        x = F.relu(self.bn5(self.conv5(x)))\n",
    "\n",
    "        return x\n",
    "\n",
    "# testig with dummy input \n",
    "model = Unsupervised()\n",
    "input_size = (8, 3, 128, 128) \n",
    "dummy_input = torch.randn(*input_size)\n",
    "output = model(dummy_input)\n",
    "print(\"Output shape: \", output.shape)\n"
   ]
  },
  {
   "cell_type": "code",
   "execution_count": 5,
   "metadata": {},
   "outputs": [
    {
     "name": "stdout",
     "output_type": "stream",
     "text": [
      "Epoch [1/10], Average Loss: 0.16149652004241943\n",
      "Epoch [2/10], Average Loss: 0.17838510741358218\n",
      "Epoch [3/10], Average Loss: 0.21482018802476965\n",
      "Epoch [4/10], Average Loss: 0.24259775099547012\n",
      "Epoch [5/10], Average Loss: 0.2520070801610532\n"
     ]
    },
    {
     "ename": "KeyboardInterrupt",
     "evalue": "",
     "output_type": "error",
     "traceback": [
      "\u001b[0;31m---------------------------------------------------------------------------\u001b[0m",
      "\u001b[0;31mKeyboardInterrupt\u001b[0m                         Traceback (most recent call last)",
      "Cell \u001b[0;32mIn[5], line 39\u001b[0m\n\u001b[1;32m     36\u001b[0m \u001b[39mfor\u001b[39;00m batch_data \u001b[39min\u001b[39;00m test_dataloader:\n\u001b[1;32m     37\u001b[0m     inputs \u001b[39m=\u001b[39m batch_data[\u001b[39m\"\u001b[39m\u001b[39mimage\u001b[39m\u001b[39m\"\u001b[39m]\u001b[39m.\u001b[39mto(device)\n\u001b[0;32m---> 39\u001b[0m     outputs \u001b[39m=\u001b[39m model(inputs)\n\u001b[1;32m     41\u001b[0m     batch_loss \u001b[39m=\u001b[39m torch\u001b[39m.\u001b[39mmean((inputs \u001b[39m-\u001b[39m outputs) \u001b[39m*\u001b[39m\u001b[39m*\u001b[39m \u001b[39m2\u001b[39m) \u001b[39m# mean squared error \u001b[39;00m\n\u001b[1;32m     43\u001b[0m     total_loss \u001b[39m=\u001b[39m\u001b[39m+\u001b[39m batch_loss\u001b[39m.\u001b[39mitem() \u001b[39m*\u001b[39m inputs\u001b[39m.\u001b[39msize(\u001b[39m0\u001b[39m)\n",
      "File \u001b[0;32m~/OneDrive/School/Spring 2023/5995_applied_ml/project/.venv/lib/python3.10/site-packages/torch/nn/modules/module.py:1501\u001b[0m, in \u001b[0;36mModule._call_impl\u001b[0;34m(self, *args, **kwargs)\u001b[0m\n\u001b[1;32m   1496\u001b[0m \u001b[39m# If we don't have any hooks, we want to skip the rest of the logic in\u001b[39;00m\n\u001b[1;32m   1497\u001b[0m \u001b[39m# this function, and just call forward.\u001b[39;00m\n\u001b[1;32m   1498\u001b[0m \u001b[39mif\u001b[39;00m \u001b[39mnot\u001b[39;00m (\u001b[39mself\u001b[39m\u001b[39m.\u001b[39m_backward_hooks \u001b[39mor\u001b[39;00m \u001b[39mself\u001b[39m\u001b[39m.\u001b[39m_backward_pre_hooks \u001b[39mor\u001b[39;00m \u001b[39mself\u001b[39m\u001b[39m.\u001b[39m_forward_hooks \u001b[39mor\u001b[39;00m \u001b[39mself\u001b[39m\u001b[39m.\u001b[39m_forward_pre_hooks\n\u001b[1;32m   1499\u001b[0m         \u001b[39mor\u001b[39;00m _global_backward_pre_hooks \u001b[39mor\u001b[39;00m _global_backward_hooks\n\u001b[1;32m   1500\u001b[0m         \u001b[39mor\u001b[39;00m _global_forward_hooks \u001b[39mor\u001b[39;00m _global_forward_pre_hooks):\n\u001b[0;32m-> 1501\u001b[0m     \u001b[39mreturn\u001b[39;00m forward_call(\u001b[39m*\u001b[39;49margs, \u001b[39m*\u001b[39;49m\u001b[39m*\u001b[39;49mkwargs)\n\u001b[1;32m   1502\u001b[0m \u001b[39m# Do not call functions when jit is used\u001b[39;00m\n\u001b[1;32m   1503\u001b[0m full_backward_hooks, non_full_backward_hooks \u001b[39m=\u001b[39m [], []\n",
      "Cell \u001b[0;32mIn[4], line 22\u001b[0m, in \u001b[0;36mUnsupervised.forward\u001b[0;34m(self, x)\u001b[0m\n\u001b[1;32m     20\u001b[0m x \u001b[39m=\u001b[39m F\u001b[39m.\u001b[39mrelu(\u001b[39mself\u001b[39m\u001b[39m.\u001b[39mbn2(\u001b[39mself\u001b[39m\u001b[39m.\u001b[39mconv2(x)))\n\u001b[1;32m     21\u001b[0m x \u001b[39m=\u001b[39m F\u001b[39m.\u001b[39mrelu(\u001b[39mself\u001b[39m\u001b[39m.\u001b[39mbn3(\u001b[39mself\u001b[39m\u001b[39m.\u001b[39mconv3(x)))\n\u001b[0;32m---> 22\u001b[0m x \u001b[39m=\u001b[39m F\u001b[39m.\u001b[39mrelu(\u001b[39mself\u001b[39m\u001b[39m.\u001b[39mbn4(\u001b[39mself\u001b[39;49m\u001b[39m.\u001b[39;49mconv4(x)))\n\u001b[1;32m     23\u001b[0m x \u001b[39m=\u001b[39m F\u001b[39m.\u001b[39mrelu(\u001b[39mself\u001b[39m\u001b[39m.\u001b[39mbn5(\u001b[39mself\u001b[39m\u001b[39m.\u001b[39mconv5(x)))\n\u001b[1;32m     25\u001b[0m \u001b[39mreturn\u001b[39;00m x\n",
      "File \u001b[0;32m~/OneDrive/School/Spring 2023/5995_applied_ml/project/.venv/lib/python3.10/site-packages/torch/nn/modules/module.py:1501\u001b[0m, in \u001b[0;36mModule._call_impl\u001b[0;34m(self, *args, **kwargs)\u001b[0m\n\u001b[1;32m   1496\u001b[0m \u001b[39m# If we don't have any hooks, we want to skip the rest of the logic in\u001b[39;00m\n\u001b[1;32m   1497\u001b[0m \u001b[39m# this function, and just call forward.\u001b[39;00m\n\u001b[1;32m   1498\u001b[0m \u001b[39mif\u001b[39;00m \u001b[39mnot\u001b[39;00m (\u001b[39mself\u001b[39m\u001b[39m.\u001b[39m_backward_hooks \u001b[39mor\u001b[39;00m \u001b[39mself\u001b[39m\u001b[39m.\u001b[39m_backward_pre_hooks \u001b[39mor\u001b[39;00m \u001b[39mself\u001b[39m\u001b[39m.\u001b[39m_forward_hooks \u001b[39mor\u001b[39;00m \u001b[39mself\u001b[39m\u001b[39m.\u001b[39m_forward_pre_hooks\n\u001b[1;32m   1499\u001b[0m         \u001b[39mor\u001b[39;00m _global_backward_pre_hooks \u001b[39mor\u001b[39;00m _global_backward_hooks\n\u001b[1;32m   1500\u001b[0m         \u001b[39mor\u001b[39;00m _global_forward_hooks \u001b[39mor\u001b[39;00m _global_forward_pre_hooks):\n\u001b[0;32m-> 1501\u001b[0m     \u001b[39mreturn\u001b[39;00m forward_call(\u001b[39m*\u001b[39;49margs, \u001b[39m*\u001b[39;49m\u001b[39m*\u001b[39;49mkwargs)\n\u001b[1;32m   1502\u001b[0m \u001b[39m# Do not call functions when jit is used\u001b[39;00m\n\u001b[1;32m   1503\u001b[0m full_backward_hooks, non_full_backward_hooks \u001b[39m=\u001b[39m [], []\n",
      "File \u001b[0;32m~/OneDrive/School/Spring 2023/5995_applied_ml/project/.venv/lib/python3.10/site-packages/torch/nn/modules/conv.py:463\u001b[0m, in \u001b[0;36mConv2d.forward\u001b[0;34m(self, input)\u001b[0m\n\u001b[1;32m    462\u001b[0m \u001b[39mdef\u001b[39;00m \u001b[39mforward\u001b[39m(\u001b[39mself\u001b[39m, \u001b[39minput\u001b[39m: Tensor) \u001b[39m-\u001b[39m\u001b[39m>\u001b[39m Tensor:\n\u001b[0;32m--> 463\u001b[0m     \u001b[39mreturn\u001b[39;00m \u001b[39mself\u001b[39;49m\u001b[39m.\u001b[39;49m_conv_forward(\u001b[39minput\u001b[39;49m, \u001b[39mself\u001b[39;49m\u001b[39m.\u001b[39;49mweight, \u001b[39mself\u001b[39;49m\u001b[39m.\u001b[39;49mbias)\n",
      "File \u001b[0;32m~/OneDrive/School/Spring 2023/5995_applied_ml/project/.venv/lib/python3.10/site-packages/torch/nn/modules/conv.py:459\u001b[0m, in \u001b[0;36mConv2d._conv_forward\u001b[0;34m(self, input, weight, bias)\u001b[0m\n\u001b[1;32m    455\u001b[0m \u001b[39mif\u001b[39;00m \u001b[39mself\u001b[39m\u001b[39m.\u001b[39mpadding_mode \u001b[39m!=\u001b[39m \u001b[39m'\u001b[39m\u001b[39mzeros\u001b[39m\u001b[39m'\u001b[39m:\n\u001b[1;32m    456\u001b[0m     \u001b[39mreturn\u001b[39;00m F\u001b[39m.\u001b[39mconv2d(F\u001b[39m.\u001b[39mpad(\u001b[39minput\u001b[39m, \u001b[39mself\u001b[39m\u001b[39m.\u001b[39m_reversed_padding_repeated_twice, mode\u001b[39m=\u001b[39m\u001b[39mself\u001b[39m\u001b[39m.\u001b[39mpadding_mode),\n\u001b[1;32m    457\u001b[0m                     weight, bias, \u001b[39mself\u001b[39m\u001b[39m.\u001b[39mstride,\n\u001b[1;32m    458\u001b[0m                     _pair(\u001b[39m0\u001b[39m), \u001b[39mself\u001b[39m\u001b[39m.\u001b[39mdilation, \u001b[39mself\u001b[39m\u001b[39m.\u001b[39mgroups)\n\u001b[0;32m--> 459\u001b[0m \u001b[39mreturn\u001b[39;00m F\u001b[39m.\u001b[39;49mconv2d(\u001b[39minput\u001b[39;49m, weight, bias, \u001b[39mself\u001b[39;49m\u001b[39m.\u001b[39;49mstride,\n\u001b[1;32m    460\u001b[0m                 \u001b[39mself\u001b[39;49m\u001b[39m.\u001b[39;49mpadding, \u001b[39mself\u001b[39;49m\u001b[39m.\u001b[39;49mdilation, \u001b[39mself\u001b[39;49m\u001b[39m.\u001b[39;49mgroups)\n",
      "\u001b[0;31mKeyboardInterrupt\u001b[0m: "
     ]
    }
   ],
   "source": [
    "\n",
    "device = torch.device(\"cuda\" if torch.cuda.is_available() else \"cpu\")\n",
    "\n",
    "# Instantiate the model\n",
    "model = Unsupervised()\n",
    "model = model.to(device)\n",
    "\n",
    "# Define the loss function\n",
    "criterion = nn.MSELoss()\n",
    "\n",
    "# Define the optimizer\n",
    "learning_rate = 0.001\n",
    "optimizer = torch.optim.SGD(model.parameters(), lr=learning_rate)\n",
    "\n",
    "# Training loop\n",
    "num_epochs = 10\n",
    "\n",
    "for epoch in range(num_epochs):\n",
    "    model.train()\n",
    "    for batch_data in train_dataloader:\n",
    "        inputs = batch_data[\"image\"].to(device)\n",
    "\n",
    "        # Forward pass\n",
    "        #print(\"inputs: \", inputs.shape)\n",
    "        outputs = model(inputs)\n",
    "\n",
    "        # Backpropagation and optimization\n",
    "        optimizer.zero_grad()\n",
    "        #loss.backward()\n",
    "        optimizer.step()\n",
    "\n",
    "    # Validation \n",
    "    model.eval()\n",
    "    total_loss = 0.0\n",
    "    num_samples = 0\n",
    "    with torch.no_grad():\n",
    "        for batch_data in test_dataloader:\n",
    "            inputs = batch_data[\"image\"].to(device)\n",
    "\n",
    "            outputs = model(inputs)\n",
    "\n",
    "            batch_loss = torch.mean((inputs - outputs) ** 2) # mean squared error \n",
    "\n",
    "            total_loss =+ batch_loss.item() * inputs.size(0)\n",
    "            num_samples += inputs.size(0)\n",
    "\n",
    "    # Print the loss or evaluation metric for the epoch\n",
    "    average_loss = total_loss / num_samples\n",
    "    print(f\"Epoch [{epoch+1}/{num_epochs}], Average Loss: {average_loss}\")\n",
    "\n",
    "# Training complete\n"
   ]
  },
  {
   "cell_type": "code",
   "execution_count": null,
   "metadata": {},
   "outputs": [],
   "source": []
  },
  {
   "cell_type": "code",
   "execution_count": null,
   "metadata": {},
   "outputs": [],
   "source": []
  }
 ],
 "metadata": {
  "kernelspec": {
   "display_name": ".venv",
   "language": "python",
   "name": "python3"
  },
  "language_info": {
   "codemirror_mode": {
    "name": "ipython",
    "version": 3
   },
   "file_extension": ".py",
   "mimetype": "text/x-python",
   "name": "python",
   "nbconvert_exporter": "python",
   "pygments_lexer": "ipython3",
   "version": "3.10.6"
  },
  "orig_nbformat": 4,
  "vscode": {
   "interpreter": {
    "hash": "33a05ede4d3731dd2de84c189e64fc4bf16cb5d0aa3c12d3ebbb64b2bead9276"
   }
  }
 },
 "nbformat": 4,
 "nbformat_minor": 2
}
