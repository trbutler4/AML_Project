{
 "cells": [
  {
   "cell_type": "code",
   "execution_count": 1,
   "metadata": {},
   "outputs": [
    {
     "name": "stderr",
     "output_type": "stream",
     "text": [
      "/home/trbiv/OneDrive/School/Spring 2023/5995_applied_ml/project/.venv/lib/python3.10/site-packages/tqdm/auto.py:21: TqdmWarning: IProgress not found. Please update jupyter and ipywidgets. See https://ipywidgets.readthedocs.io/en/stable/user_install.html\n",
      "  from .autonotebook import tqdm as notebook_tqdm\n"
     ]
    }
   ],
   "source": [
    "#!pip install datasets\n",
    "import os\n",
    "import torch\n",
    "import torch.nn as nn\n",
    "import torch.nn.functional as F\n",
    "import numpy as np\n",
    "from datasets import load_dataset, load_from_disk\n",
    "from PIL import Image\n",
    "import torchvision.transforms as transforms\n",
    "from torch.utils.data import DataLoader\n",
    "from sklearn.cluster import KMeans \n",
    "from sklearn.metrics import accuracy_score"
   ]
  },
  {
   "attachments": {},
   "cell_type": "markdown",
   "metadata": {},
   "source": [
    "Process Data"
   ]
  },
  {
   "cell_type": "code",
   "execution_count": 2,
   "metadata": {},
   "outputs": [
    {
     "name": "stderr",
     "output_type": "stream",
     "text": [
      "/home/trbiv/OneDrive/School/Spring 2023/5995_applied_ml/project/.venv/lib/python3.10/site-packages/datasets/load.py:1744: FutureWarning: 'ignore_verifications' was deprecated in favor of 'verification_mode' in version 2.9.1 and will be removed in 3.0.0.\n",
      "You can remove this warning by passing 'verification_mode=no_checks' instead.\n",
      "  warnings.warn(\n",
      "Found cached dataset slither-audited-smart-contracts (/home/trbiv/.cache/huggingface/datasets/mwritescode___slither-audited-smart-contracts/small-multilabel/1.1.0/4cf503b59ce9d3157914e47f6253de773b7ab828f46642685d4b470b88ca1f13)\n",
      "Found cached dataset slither-audited-smart-contracts (/home/trbiv/.cache/huggingface/datasets/mwritescode___slither-audited-smart-contracts/small-multilabel/1.1.0/4cf503b59ce9d3157914e47f6253de773b7ab828f46642685d4b470b88ca1f13)\n",
      "Loading cached processed dataset at /home/trbiv/.cache/huggingface/datasets/mwritescode___slither-audited-smart-contracts/small-multilabel/1.1.0/4cf503b59ce9d3157914e47f6253de773b7ab828f46642685d4b470b88ca1f13/cache-c188e338b89c945d.arrow\n",
      "Loading cached processed dataset at /home/trbiv/.cache/huggingface/datasets/mwritescode___slither-audited-smart-contracts/small-multilabel/1.1.0/4cf503b59ce9d3157914e47f6253de773b7ab828f46642685d4b470b88ca1f13/cache-55eb0a754a407249.arrow\n",
      "                                                              \r"
     ]
    },
    {
     "data": {
      "text/plain": [
       "{'image': <PIL.PngImagePlugin.PngImageFile image mode=RGB size=50x50>}"
      ]
     },
     "execution_count": 2,
     "metadata": {},
     "output_type": "execute_result"
    }
   ],
   "source": [
    "# dataset will be cached after loading the first time \n",
    "\n",
    "train_ds = load_dataset(\"mwritescode/slither-audited-smart-contracts\", 'small-multilabel', split='train', ignore_verifications=True)\n",
    "test_ds = load_dataset(\"mwritescode/slither-audited-smart-contracts\", 'small-multilabel', split='test', ignore_verifications=True)\n",
    "\n",
    "# for quick training (will cause bad output)\n",
    "train_ds = train_ds.select(range(100))\n",
    "test_ds = test_ds.select(range(50))\n",
    "\n",
    "# cutting down dataset to speed up training, may cause less accurate model\n",
    "#train_ds = train_ds.select(range(1000))\n",
    "#test_ds = test_ds.select((range(200)))\n",
    "\n",
    "\n",
    "# filter out empty bytecode \n",
    "train_ds = train_ds.filter(lambda elem: elem['bytecode'] != '0x')\n",
    "test_ds = test_ds.filter(lambda elem: elem['bytecode'] != '0x')\n",
    "\n",
    "# extract number of unique classes \n",
    "\n",
    "\n",
    "# generate RGB image \n",
    "def generate_RGB_image(example):\n",
    "    # generate RGB image\n",
    "    bytecode_string = example['bytecode']\n",
    "    bytecode_hex = bytes.fromhex(bytecode_string[2:])\n",
    "    image = np.frombuffer(bytecode_hex, dtype=np.uint8)\n",
    "    length = int(np.ceil(len(image)/3))\n",
    "    image = np.pad(image, pad_width=(0, length*3 - len(image)))\n",
    "    image = image.reshape((-1, 3))\n",
    "    sqrt_len = int(np.ceil(np.sqrt(image.shape[0])))\n",
    "    image = np.pad(image,  pad_width=((0, sqrt_len**2 - image.shape[0]),(0,0)))\n",
    "    image = image.reshape((sqrt_len, sqrt_len, 3))\n",
    "    image = Image.fromarray(image)\n",
    "    example['image'] = image\n",
    "\n",
    "    return example\n",
    "\n",
    "def generate_RGB_image_and_label(example):\n",
    "    # generate RGB image\n",
    "    bytecode_string = example['bytecode']\n",
    "    bytecode_hex = bytes.fromhex(bytecode_string[2:])\n",
    "    image = np.frombuffer(bytecode_hex, dtype=np.uint8)\n",
    "    length = int(np.ceil(len(image)/3))\n",
    "    image = np.pad(image, pad_width=(0, length*3 - len(image)))\n",
    "    image = image.reshape((-1, 3))\n",
    "    sqrt_len = int(np.ceil(np.sqrt(image.shape[0])))\n",
    "    image = np.pad(image,  pad_width=((0, sqrt_len**2 - image.shape[0]),(0,0)))\n",
    "    image = image.reshape((sqrt_len, sqrt_len, 3))\n",
    "    image = Image.fromarray(image)\n",
    "    example['image'] = image\n",
    "\n",
    "    # 4 is considered safe\n",
    "    example['label'] = 0.0 if 4 in example['slither'] else 1.0\n",
    "    return example\n",
    "\n",
    "# generate images, remove unneccessary columns \n",
    "train_ds = train_ds.map(generate_RGB_image, remove_columns=['address', 'source_code', 'bytecode', 'slither'])\n",
    "test_ds = test_ds.map(generate_RGB_image_and_label, remove_columns=['address', 'source_code', 'bytecode', 'slither'])\n",
    "\n",
    "# image after generating\n",
    "train_ds[0]\n",
    "\n",
    "\n"
   ]
  },
  {
   "attachments": {},
   "cell_type": "markdown",
   "metadata": {},
   "source": [
    "Apply augmentations"
   ]
  },
  {
   "cell_type": "code",
   "execution_count": 3,
   "metadata": {},
   "outputs": [
    {
     "name": "stderr",
     "output_type": "stream",
     "text": [
      "Loading cached processed dataset at /home/trbiv/.cache/huggingface/datasets/mwritescode___slither-audited-smart-contracts/small-multilabel/1.1.0/4cf503b59ce9d3157914e47f6253de773b7ab828f46642685d4b470b88ca1f13/cache-3ebb13515260e0c0.arrow\n",
      "                                                              "
     ]
    },
    {
     "name": "stdout",
     "output_type": "stream",
     "text": [
      "torch.Size([3, 128, 128])\n"
     ]
    },
    {
     "name": "stderr",
     "output_type": "stream",
     "text": [
      "\r"
     ]
    }
   ],
   "source": [
    "\n",
    "# pytorch expect RGB inputs in range [0, 1], normalize:\n",
    "mean_rgb = [0.485, 0.456, 0.406]\n",
    "std_rgb = [0.229, 0.224, 0.225]\n",
    "\n",
    "# transform images\n",
    "transform = transforms.Compose([\n",
    "    transforms.Resize(128),\n",
    "    transforms.RandomHorizontalFlip(),\n",
    "    transforms.ToTensor(),\n",
    "    transforms.Normalize(mean=mean_rgb, std=std_rgb)\n",
    "])\n",
    "\n",
    "# apply transformations\n",
    "transformed_train_ds = train_ds.map(lambda elem: {'image': transform(elem['image'])})\n",
    "transformed_test_ds = test_ds.map(lambda elem: {'image': transform(elem['image'])})\n",
    "\n",
    "batch_size =  8\n",
    "\n",
    "# convert to pytorch format \n",
    "transformed_train_ds = transformed_train_ds.with_format(\"torch\")\n",
    "transformed_test_ds = transformed_test_ds.with_format(\"torch\")\n",
    "\n",
    "# initialize dataloaders\n",
    "train_dataloader = DataLoader(transformed_train_ds, batch_size=batch_size, shuffle=True)\n",
    "test_dataloader = DataLoader(transformed_test_ds, batch_size=batch_size, shuffle=False)\n",
    "\n",
    "print(transformed_train_ds[2]['image'].shape)"
   ]
  },
  {
   "cell_type": "code",
   "execution_count": 4,
   "metadata": {},
   "outputs": [
    {
     "name": "stdout",
     "output_type": "stream",
     "text": [
      "Output shape:  torch.Size([8, 3, 128, 128])\n"
     ]
    }
   ],
   "source": [
    "class Unsupervised(nn.Module): \n",
    "    def __init__(self):\n",
    "        super(Unsupervised, self).__init__()\n",
    "\n",
    "        self.conv1 = nn.Conv2d(3, 64, kernel_size=3, padding=1)\n",
    "        self.bn1 = nn.BatchNorm2d(64)\n",
    "        self.conv2 = nn.Conv2d(64, 128, kernel_size=3, padding=1)\n",
    "        self.bn2 = nn.BatchNorm2d(128)\n",
    "        self.conv3 = nn.Conv2d(128, 128, kernel_size=3, padding=1)\n",
    "        self.bn3 = nn.BatchNorm2d(128)\n",
    "        self.conv4 = nn.Conv2d(128, 128, kernel_size=3, padding=1)\n",
    "        self.bn4 = nn.BatchNorm2d(128)\n",
    "        self.conv5 = nn.Conv2d(128, 3, kernel_size=3, padding=1)\n",
    "        self.bn5 = nn.BatchNorm2d(3)\n",
    "\n",
    "\n",
    "    def forward(self, x):\n",
    "\n",
    "        x = F.relu(self.bn1(self.conv1(x)))\n",
    "        x = F.relu(self.bn2(self.conv2(x)))\n",
    "        x = F.relu(self.bn3(self.conv3(x)))\n",
    "        x = F.relu(self.bn4(self.conv4(x)))\n",
    "        x = F.relu(self.bn5(self.conv5(x)))\n",
    "\n",
    "        return x\n",
    "\n",
    "\n",
    "# testig with dummy input \n",
    "model = Unsupervised()\n",
    "input_size = (8, 3, 128, 128) \n",
    "dummy_input = torch.randn(*input_size)\n",
    "output = model(dummy_input)\n",
    "print(\"Output shape: \", output.shape)\n"
   ]
  },
  {
   "cell_type": "code",
   "execution_count": 5,
   "metadata": {},
   "outputs": [
    {
     "name": "stdout",
     "output_type": "stream",
     "text": [
      "Epoch [1/5], Average Loss: 0.03701128035175557\n",
      "Epoch [2/5], Average Loss: 0.036922406177131495\n",
      "Epoch [3/5], Average Loss: 0.03659829314874143\n",
      "Epoch [4/5], Average Loss: 0.036681459874522926\n"
     ]
    },
    {
     "name": "stderr",
     "output_type": "stream",
     "text": [
      "/home/trbiv/OneDrive/School/Spring 2023/5995_applied_ml/project/.venv/lib/python3.10/site-packages/sklearn/cluster/_kmeans.py:870: FutureWarning: The default value of `n_init` will change from 10 to 'auto' in 1.4. Set the value of `n_init` explicitly to suppress the warning\n",
      "  warnings.warn(\n"
     ]
    },
    {
     "name": "stdout",
     "output_type": "stream",
     "text": [
      "Epoch [5/5], Average Loss: 0.036681459874522926, Accuracy Score: 0.3520408163265306\n"
     ]
    }
   ],
   "source": [
    "\n",
    "device = torch.device(\"cuda\" if torch.cuda.is_available() else \"cpu\")\n",
    "\n",
    "# Instantiate the model\n",
    "model = Unsupervised()\n",
    "model = model.to(device)\n",
    "\n",
    "# Define the loss function\n",
    "criterion = nn.MSELoss()\n",
    "\n",
    "# Define the optimizer\n",
    "learning_rate = 0.001\n",
    "optimizer = torch.optim.SGD(model.parameters(), lr=learning_rate)\n",
    "\n",
    "# Training loop\n",
    "#num_epochs = 1 # because training takes so long \n",
    "num_epochs = 5\n",
    "\n",
    "for epoch in range(num_epochs):\n",
    "    model.train()\n",
    "    for batch_data in train_dataloader:\n",
    "        inputs = batch_data[\"image\"].to(device)\n",
    "\n",
    "        # Forward pass\n",
    "        #print(\"inputs: \", inputs.shape)\n",
    "        outputs = model(inputs)\n",
    "\n",
    "        # Backpropagation and optimization\n",
    "        optimizer.zero_grad()\n",
    "        #loss.backward()\n",
    "        optimizer.step()\n",
    "\n",
    "    # Validation \n",
    "    model.eval()\n",
    "    total_loss = 0.0\n",
    "    num_samples = 0\n",
    "    embeddings = []\n",
    "    true_labels = []\n",
    "    with torch.no_grad():\n",
    "        for batch_data in test_dataloader:\n",
    "            inputs = batch_data[\"image\"].to(device)\n",
    "\n",
    "            outputs = model(inputs)\n",
    "\n",
    "            batch_loss = torch.mean((inputs - outputs) ** 2) # mean squared error \n",
    "            total_loss =+ batch_loss.item() * inputs.size(0)\n",
    "            num_samples += inputs.size(0)\n",
    "\n",
    "            # apply k-means clustering on last epoch \n",
    "            if epoch == num_epochs - 1:\n",
    "                outputs = outputs.reshape(-1, 3)\n",
    "                embeddings.extend(outputs)\n",
    "                true_labels.extend(batch_data[\"label\"])\n",
    "\n",
    "\n",
    "    if epoch == num_epochs - 1:\n",
    "        # apply k-means clustering \n",
    "        num_clusters = 2 # safe or unsafe \n",
    "        kmeans = KMeans(n_clusters=num_clusters)\n",
    "        embeddings = np.stack(embeddings)\n",
    "        cluster_labels = kmeans.fit_predict(embeddings)\n",
    "        #print(\"Cluster Labels Shape: \", cluster_labels.shape)\n",
    "\n",
    "        # Aggregate cluster labels at the image level\n",
    "        start_idx = 0\n",
    "        image_labels = []\n",
    "        for batch_data in test_dataloader:\n",
    "            num_images = batch_data[\"image\"].size(0)\n",
    "            image_cluster_labels = cluster_labels[start_idx : start_idx + num_images]\n",
    "            aggregated_label = np.bincount(image_cluster_labels).argmax()\n",
    "            image_labels.extend([aggregated_label] * num_images)\n",
    "            start_idx += num_images\n",
    "\n",
    "        image_labels = np.array(image_labels)\n",
    "\n",
    "        # calculate accuracy score \n",
    "        true_labels = np.array(true_labels)\n",
    "\n",
    "        #print(\"True Labels Shape: \", true_labels.shape)\n",
    "        accuracy = accuracy_score(true_labels, image_labels)\n",
    "        print(f\"Epoch [{epoch+1}/{num_epochs}], Average Loss: {average_loss}, Accuracy Score: {accuracy}\")\n",
    "    else: \n",
    "        average_loss = total_loss / num_samples\n",
    "        print(f\"Epoch [{epoch+1}/{num_epochs}], Average Loss: {average_loss}\")\n"
   ]
  }
 ],
 "metadata": {
  "kernelspec": {
   "display_name": ".venv",
   "language": "python",
   "name": "python3"
  },
  "language_info": {
   "codemirror_mode": {
    "name": "ipython",
    "version": 3
   },
   "file_extension": ".py",
   "mimetype": "text/x-python",
   "name": "python",
   "nbconvert_exporter": "python",
   "pygments_lexer": "ipython3",
   "version": "3.10.6"
  },
  "orig_nbformat": 4,
  "vscode": {
   "interpreter": {
    "hash": "33a05ede4d3731dd2de84c189e64fc4bf16cb5d0aa3c12d3ebbb64b2bead9276"
   }
  }
 },
 "nbformat": 4,
 "nbformat_minor": 2
}
